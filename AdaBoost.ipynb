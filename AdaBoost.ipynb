{
  "nbformat": 4,
  "nbformat_minor": 0,
  "metadata": {
    "colab": {
      "name": "AdaBoost.ipynb",
      "provenance": [],
      "authorship_tag": "ABX9TyNIGnRrbx0mfkb+WCmUiSr3",
      "include_colab_link": true
    },
    "kernelspec": {
      "name": "python3",
      "display_name": "Python 3"
    },
    "language_info": {
      "name": "python"
    }
  },
  "cells": [
    {
      "cell_type": "markdown",
      "metadata": {
        "id": "view-in-github",
        "colab_type": "text"
      },
      "source": [
        "<a href=\"https://colab.research.google.com/github/Rushikesh042/ML-DL-Algos/blob/main/AdaBoost.ipynb\" target=\"_parent\"><img src=\"https://colab.research.google.com/assets/colab-badge.svg\" alt=\"Open In Colab\"/></a>"
      ]
    },
    {
      "cell_type": "code",
      "execution_count": 1,
      "metadata": {
        "id": "33zBg4GTOMyx"
      },
      "outputs": [],
      "source": [
        "import pandas as pd\n",
        "import numpy as np\n",
        "import sklearn\n",
        "from sklearn import datasets"
      ]
    },
    {
      "cell_type": "code",
      "source": [
        "# Loading and Visualizing the Dataset\n",
        "iris = datasets.load_iris()\n",
        "X = iris.data\n",
        "Y = iris.target"
      ],
      "metadata": {
        "id": "v14WE2RaQvIA"
      },
      "execution_count": 2,
      "outputs": []
    },
    {
      "cell_type": "code",
      "source": [
        "iris.target_names"
      ],
      "metadata": {
        "colab": {
          "base_uri": "https://localhost:8080/"
        },
        "id": "mVmgbrLnQvKd",
        "outputId": "7e338ca8-31d9-44b8-95c0-ff36ad770984"
      },
      "execution_count": 3,
      "outputs": [
        {
          "output_type": "execute_result",
          "data": {
            "text/plain": [
              "array(['setosa', 'versicolor', 'virginica'], dtype='<U10')"
            ]
          },
          "metadata": {},
          "execution_count": 3
        }
      ]
    },
    {
      "cell_type": "code",
      "source": [
        "iris.feature_names"
      ],
      "metadata": {
        "colab": {
          "base_uri": "https://localhost:8080/"
        },
        "id": "md9Z-2wGQvOf",
        "outputId": "ed76267a-98d4-4a04-d178-fbbc3289d0ec"
      },
      "execution_count": 4,
      "outputs": [
        {
          "output_type": "execute_result",
          "data": {
            "text/plain": [
              "['sepal length (cm)',\n",
              " 'sepal width (cm)',\n",
              " 'petal length (cm)',\n",
              " 'petal width (cm)']"
            ]
          },
          "metadata": {},
          "execution_count": 4
        }
      ]
    },
    {
      "cell_type": "code",
      "source": [
        "iris.data[0:5]"
      ],
      "metadata": {
        "colab": {
          "base_uri": "https://localhost:8080/"
        },
        "id": "KWxTEkDXQvQ0",
        "outputId": "07f8f046-e707-486e-b426-8389a5012b47"
      },
      "execution_count": 5,
      "outputs": [
        {
          "output_type": "execute_result",
          "data": {
            "text/plain": [
              "array([[5.1, 3.5, 1.4, 0.2],\n",
              "       [4.9, 3. , 1.4, 0.2],\n",
              "       [4.7, 3.2, 1.3, 0.2],\n",
              "       [4.6, 3.1, 1.5, 0.2],\n",
              "       [5. , 3.6, 1.4, 0.2]])"
            ]
          },
          "metadata": {},
          "execution_count": 5
        }
      ]
    },
    {
      "cell_type": "code",
      "source": [
        "#Splitting the Dataset\n",
        "from sklearn.model_selection import train_test_split\n",
        "X_train, X_test, Y_train, Y_test = train_test_split(X, Y, test_size=0.3)"
      ],
      "metadata": {
        "id": "Duq663TmQvTB"
      },
      "execution_count": 6,
      "outputs": []
    },
    {
      "cell_type": "code",
      "source": [
        "#Building the AdaBoost Model\n",
        "from sklearn.ensemble import AdaBoostClassifier \n",
        "adb = AdaBoostClassifier()\n",
        "model = adb.fit(X_train, Y_train)\n",
        "y_pred = model.predict(X_test)\n",
        "y_pred"
      ],
      "metadata": {
        "colab": {
          "base_uri": "https://localhost:8080/"
        },
        "id": "CjOqcJLpQvVO",
        "outputId": "76ddeef1-2ebe-43fe-8c5e-029e4272b487"
      },
      "execution_count": 7,
      "outputs": [
        {
          "output_type": "execute_result",
          "data": {
            "text/plain": [
              "array([0, 1, 0, 0, 2, 0, 0, 2, 1, 2, 0, 2, 1, 2, 0, 0, 2, 0, 2, 1, 0, 1,\n",
              "       1, 1, 0, 2, 0, 0, 2, 0, 1, 1, 1, 1, 0, 1, 2, 0, 2, 0, 2, 1, 1, 2,\n",
              "       0])"
            ]
          },
          "metadata": {},
          "execution_count": 7
        }
      ]
    },
    {
      "cell_type": "code",
      "source": [
        "#Evaluating the Model\n",
        "from sklearn.metrics import confusion_matrix, classification_report, accuracy_score\n",
        "print(confusion_matrix(Y_test, y_pred))\n",
        "print(classification_report(Y_test, y_pred))\n",
        "print(accuracy_score(Y_test, y_pred))"
      ],
      "metadata": {
        "colab": {
          "base_uri": "https://localhost:8080/"
        },
        "id": "0NQL8f2eQ32Y",
        "outputId": "87f9ec30-bdc4-42fa-c9e7-d5cf98065290"
      },
      "execution_count": 8,
      "outputs": [
        {
          "output_type": "stream",
          "name": "stdout",
          "text": [
            "[[18  0  0]\n",
            " [ 0 14  3]\n",
            " [ 0  0 10]]\n",
            "              precision    recall  f1-score   support\n",
            "\n",
            "           0       1.00      1.00      1.00        18\n",
            "           1       1.00      0.82      0.90        17\n",
            "           2       0.77      1.00      0.87        10\n",
            "\n",
            "    accuracy                           0.93        45\n",
            "   macro avg       0.92      0.94      0.92        45\n",
            "weighted avg       0.95      0.93      0.93        45\n",
            "\n",
            "0.9333333333333333\n"
          ]
        }
      ]
    },
    {
      "cell_type": "code",
      "source": [
        "#Parameters Tuning:\n",
        "\"\"\"Using SVM as a base estimator\"\"\"\n",
        "from sklearn.svm import SVC\n",
        "from sklearn.ensemble import AdaBoostClassifier \n",
        "svc = SVC(probability = True, kernel='linear')\n",
        "adb = AdaBoostClassifier(n_estimators=100,base_estimator = svc, learning_rate= 0.01)"
      ],
      "metadata": {
        "id": "XuDhNfGXQ34r"
      },
      "execution_count": 9,
      "outputs": []
    },
    {
      "cell_type": "code",
      "source": [
        "#Training and Predicting the AdaBoost Classifier\n",
        "model = adb.fit(X_train, Y_train)\n",
        "y_pred = model.predict(X_test)\n",
        "y_pred"
      ],
      "metadata": {
        "colab": {
          "base_uri": "https://localhost:8080/"
        },
        "id": "5yZPwIlwQ365",
        "outputId": "c6817fa0-006a-4deb-f87f-cd0b823967b5"
      },
      "execution_count": 10,
      "outputs": [
        {
          "output_type": "execute_result",
          "data": {
            "text/plain": [
              "array([0, 1, 0, 0, 2, 0, 0, 2, 1, 2, 0, 2, 1, 2, 0, 0, 2, 0, 2, 2, 0, 1,\n",
              "       1, 1, 0, 2, 0, 0, 2, 0, 1, 2, 1, 1, 0, 1, 2, 0, 2, 0, 2, 1, 1, 2,\n",
              "       0])"
            ]
          },
          "metadata": {},
          "execution_count": 10
        }
      ]
    },
    {
      "cell_type": "code",
      "source": [
        "#Evaluating the Model\n",
        "print(confusion_matrix(Y_test, y_pred))\n",
        "print(classification_report(Y_test, y_pred))\n",
        "print(accuracy_score(Y_test, y_pred))"
      ],
      "metadata": {
        "colab": {
          "base_uri": "https://localhost:8080/"
        },
        "id": "x2X6bMotQ39B",
        "outputId": "82977d5e-b266-4c73-9223-2d9c5443c7ad"
      },
      "execution_count": 11,
      "outputs": [
        {
          "output_type": "stream",
          "name": "stdout",
          "text": [
            "[[18  0  0]\n",
            " [ 0 12  5]\n",
            " [ 0  0 10]]\n",
            "              precision    recall  f1-score   support\n",
            "\n",
            "           0       1.00      1.00      1.00        18\n",
            "           1       1.00      0.71      0.83        17\n",
            "           2       0.67      1.00      0.80        10\n",
            "\n",
            "    accuracy                           0.89        45\n",
            "   macro avg       0.89      0.90      0.88        45\n",
            "weighted avg       0.93      0.89      0.89        45\n",
            "\n",
            "0.8888888888888888\n"
          ]
        }
      ]
    }
  ]
}