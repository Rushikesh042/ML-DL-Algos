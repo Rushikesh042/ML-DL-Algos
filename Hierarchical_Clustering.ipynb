{
  "nbformat": 4,
  "nbformat_minor": 0,
  "metadata": {
    "colab": {
      "name": "Hierarchical Clustering.ipynb",
      "provenance": [],
      "authorship_tag": "ABX9TyNXkhXWSDXSjFpl5JVUdrbh",
      "include_colab_link": true
    },
    "kernelspec": {
      "name": "python3",
      "display_name": "Python 3"
    },
    "language_info": {
      "name": "python"
    }
  },
  "cells": [
    {
      "cell_type": "markdown",
      "metadata": {
        "id": "view-in-github",
        "colab_type": "text"
      },
      "source": [
        "<a href=\"https://colab.research.google.com/github/Rushikesh042/ML-DL-Algos/blob/main/Hierarchical_Clustering.ipynb\" target=\"_parent\"><img src=\"https://colab.research.google.com/assets/colab-badge.svg\" alt=\"Open In Colab\"/></a>"
      ]
    },
    {
      "cell_type": "code",
      "execution_count": 1,
      "metadata": {
        "id": "StRDxJw8vh-k"
      },
      "outputs": [],
      "source": [
        "#import libraries\n",
        "%matplotlib inline\n",
        "import matplotlib.pyplot as plt\n",
        "import numpy as np\n",
        "import seaborn as sns\n",
        "import scipy as sp\n",
        "from sklearn import datasets\n",
        "from numpy import linalg as LA\n",
        "from sklearn.metrics.pairwise import pairwise_distances\n",
        "import sys"
      ]
    },
    {
      "cell_type": "code",
      "source": [
        "#Our Dataset\n",
        "data = np.array([0.40,0.53,0.22,0.38,0.35,0.32,0.26,0.19,0.08,0.41,0.45,0.30]).reshape(6,2)\n",
        "print(data)"
      ],
      "metadata": {
        "colab": {
          "base_uri": "https://localhost:8080/"
        },
        "id": "KQIOppI4vjYg",
        "outputId": "0a9380eb-6d79-49e1-ca30-fa312db4751e"
      },
      "execution_count": 2,
      "outputs": [
        {
          "output_type": "stream",
          "name": "stdout",
          "text": [
            "[[0.4  0.53]\n",
            " [0.22 0.38]\n",
            " [0.35 0.32]\n",
            " [0.26 0.19]\n",
            " [0.08 0.41]\n",
            " [0.45 0.3 ]]\n"
          ]
        }
      ]
    },
    {
      "cell_type": "markdown",
      "source": [
        "# **DATA VISUALIZATION**"
      ],
      "metadata": {
        "id": "6N-DCY_uv5eY"
      }
    },
    {
      "cell_type": "code",
      "source": [
        "#Plot Dataset\n",
        "fig = plt.figure()\n",
        "fig.suptitle('Scatter Plot for clusters')\n",
        "ax = fig.add_subplot(1,1,1)\n",
        "ax.set_xlabel('X')\n",
        "ax.set_ylabel('Y')` 0`\n",
        "ax.scatter(data[:,0],data[:,1])"
      ],
      "metadata": {
        "colab": {
          "base_uri": "https://localhost:8080/",
          "height": 326
        },
        "id": "VUYaDhJWvuBe",
        "outputId": "544b368d-3288-43e7-97f3-e6b183f3d53d"
      },
      "execution_count": 3,
      "outputs": [
        {
          "output_type": "execute_result",
          "data": {
            "text/plain": [
              "<matplotlib.collections.PathCollection at 0x7f7f520053d0>"
            ]
          },
          "metadata": {},
          "execution_count": 3
        },
        {
          "output_type": "display_data",
          "data": {
            "image/png": "[encoded data removed]",
            "text/plain": [
              "<Figure size 432x288 with 1 Axes>"
            ]
          },
          "metadata": {
            "needs_background": "light"
          }
        }
      ]
    },
    {
      "cell_type": "code",
      "source": [
        "#Defining Hierarchical clustering with Number of Nodes\n",
        "def hierarchical_clustering(data,linkage,no_of_clusters):  \n",
        "    #first step is to calculate the initial distance matrix\n",
        "    #it consists distances from all the point to all the point\n",
        "    color = ['r','g','b','y','c','m','k','w']\n",
        "    initial_distances = pairwise_distances(data,metric='euclidean')\n",
        "    #making all the diagonal elements infinity \n",
        "    np.fill_diagonal(initial_distances,sys.maxsize)\n",
        "    clusters = find_clusters(initial_distances,linkage) \n",
        "    \n",
        "    #plotting the clusters\n",
        "    iteration_number = initial_distances.shape[0] - no_of_clusters\n",
        "    clusters_to_plot = clusters[iteration_number]\n",
        "    arr = np.unique(clusters_to_plot)\n",
        "    \n",
        "    indices_to_plot = []\n",
        "    fig = plt.figure()\n",
        "    fig.suptitle('Scatter Plot for clusters')\n",
        "    ax = fig.add_subplot(1,1,1)\n",
        "    ax.set_xlabel('X')\n",
        "    ax.set_ylabel('Y')\n",
        "    for x in np.nditer(arr):\n",
        "        indices_to_plot.append(np.where(clusters_to_plot==x))\n",
        "    p=0\n",
        "    \n",
        "    print(clusters_to_plot)\n",
        "    for i in range(0,len(indices_to_plot)):\n",
        "        for j in np.nditer(indices_to_plot[i]):\n",
        "               ax.scatter(data[j,0],data[j,1], c= color[p])\n",
        "        p = p + 1\n",
        "        \n",
        "    plt.show()"
      ],
      "metadata": {
        "id": "pHfxA38GvuET"
      },
      "execution_count": 4,
      "outputs": []
    },
    {
      "cell_type": "code",
      "source": [
        "def find_clusters(input,linkage):\n",
        "    clusters = {}\n",
        "    row_index = -1\n",
        "    col_index = -1\n",
        "    array = []\n",
        "    \n",
        "\n",
        "    for n in range(input.shape[0]):\n",
        "        array.append(n)\n",
        "        \n",
        "    clusters[0] = array.copy()\n",
        "\n",
        "    #finding minimum value from the distance matrix\n",
        "    #note that this loop will always return minimum value from bottom triangle of matrix\n",
        "    for k in range(1, input.shape[0]):\n",
        "        min_val = sys.maxsize\n",
        "        \n",
        "        for i in range(0, input.shape[0]):\n",
        "            for j in range(0, input.shape[1]):\n",
        "                if(input[i][j]<=min_val):\n",
        "                    min_val = input[i][j]\n",
        "                    row_index = i\n",
        "                    col_index = j\n",
        "                    \n",
        "        #once we find the minimum value, we need to update the distance matrix\n",
        "        #updating the matrix by calculating the new distances from the cluster to all points\n",
        "        \n",
        "        #for Single Linkage\n",
        "        if(linkage == \"single\" or linkage ==\"Single\"):\n",
        "            for i in range(0,input.shape[0]):\n",
        "                if(i != col_index):\n",
        "                    #we calculate the distance of every data point from newly formed cluster and update the matrix.\n",
        "                    temp = min(input[col_index][i],input[row_index][i])\n",
        "                    #we update the matrix symmetrically as our distance matrix should always be symmetric\n",
        "                    input[col_index][i] = temp\n",
        "                    input[i][col_index] = temp\n",
        "        #for Complete Linkage\n",
        "        elif(linkage==\"Complete\" or linkage == \"complete\"):\n",
        "             for i in range(0,input.shape[0]):\n",
        "                if(i != col_index and i!=row_index):\n",
        "                    temp = min(input[col_index][i],input[row_index][i])\n",
        "                    input[col_index][i] = temp\n",
        "                    input[i][col_index] = temp\n",
        "        #for Average Linkage\n",
        "        elif(linkage==\"Average\" or linkage == \"average\"):\n",
        "             for i in range(0,input.shape[0]):\n",
        "                if(i != col_index and i!=row_index):\n",
        "                    temp = (input[col_index][i]+input[row_index][i])/2\n",
        "                    input[col_index][i] = temp\n",
        "                    input[i][col_index] = temp\n",
        "        \n",
        "        elif(linkage==\"Centroid\" or linkage ==\"centroid\"):\n",
        "            for i in range(0,input.shape[0]):\n",
        "                if(i!=col_index and i!=row_index):\n",
        "                    dist_centroid = cal_dist_from_centroid(i,row_index,col_index)\n",
        "                    input[col_index][i] = dist_centroid\n",
        "                    input[i][col_index] = dist_centroid\n",
        "                   \n",
        "        #set the rows and columns for the cluster with higher index i.e. the row index to infinity\n",
        "        #Set input[row_index][for_all_i] = infinity\n",
        "        #set input[for_all_i][row_index] = infinity\n",
        "        for i in range (0,input.shape[0]):\n",
        "            input[row_index][i] = sys.maxsize\n",
        "            input[i][row_index] = sys.maxsize\n",
        "            \n",
        "        #Manipulating the dictionary to keep track of cluster formation in each step\n",
        "        #if k=0,then all datapoints are clusters\n",
        "       \n",
        "        minimum = min(row_index,col_index)\n",
        "        maximum = max(row_index,col_index)\n",
        "        for n in range(len(array)):\n",
        "            if(array[n]==maximum):\n",
        "                array[n] = minimum\n",
        "        clusters[k] = array.copy()\n",
        "        \n",
        "    return clusters"
      ],
      "metadata": {
        "id": "KJp2RkJrvuHH"
      },
      "execution_count": 13,
      "outputs": []
    },
    {
      "cell_type": "code",
      "source": [
        "hierarchical_clustering(data,\"single\", 6)"
      ],
      "metadata": {
        "colab": {
          "base_uri": "https://localhost:8080/",
          "height": 326
        },
        "id": "4TOj7MT6vuL1",
        "outputId": "fca753f4-6d82-4c2d-8a87-16aa4f910f66"
      },
      "execution_count": 6,
      "outputs": [
        {
          "output_type": "stream",
          "name": "stdout",
          "text": [
            "[0, 1, 2, 3, 4, 5]\n"
          ]
        },
        {
          "output_type": "display_data",
          "data": {
            "image/png": "[encoded data removed]",
            "text/plain": [
              "<Figure size 432x288 with 1 Axes>"
            ]
          },
          "metadata": {
            "needs_background": "light"
          }
        }
      ]
    },
    {
      "cell_type": "code",
      "source": [
        "#The color of data[2] and data[5] became same, thus they are in same cluster now\n",
        "hierarchical_clustering(data,\"single\", 5)"
      ],
      "metadata": {
        "colab": {
          "base_uri": "https://localhost:8080/",
          "height": 326
        },
        "id": "jJhMaqs9vuOk",
        "outputId": "18d5790a-bf77-4937-9ebe-52b1b9cf5cec"
      },
      "execution_count": 7,
      "outputs": [
        {
          "output_type": "stream",
          "name": "stdout",
          "text": [
            "[0, 1, 2, 3, 4, 2]\n"
          ]
        },
        {
          "output_type": "display_data",
          "data": {
            "image/png": "[encoded data removed]",
            "text/plain": [
              "<Figure size 432x288 with 1 Axes>"
            ]
          },
          "metadata": {
            "needs_background": "light"
          }
        }
      ]
    },
    {
      "cell_type": "code",
      "source": [
        "#The color of data[1] and data[4] also became same in color, thus they are in same cluster now\n",
        "hierarchical_clustering(data,\"single\", 4)"
      ],
      "metadata": {
        "colab": {
          "base_uri": "https://localhost:8080/",
          "height": 326
        },
        "id": "6NVMg8_B3pGc",
        "outputId": "fd0dccb2-b667-4721-8c13-4bf0b40d153c"
      },
      "execution_count": 8,
      "outputs": [
        {
          "output_type": "stream",
          "name": "stdout",
          "text": [
            "[0, 1, 2, 3, 1, 2]\n"
          ]
        },
        {
          "output_type": "display_data",
          "data": {
            "image/png": "[encoded data removed]",
            "text/plain": [
              "<Figure size 432x288 with 1 Axes>"
            ]
          },
          "metadata": {
            "needs_background": "light"
          }
        }
      ]
    },
    {
      "cell_type": "code",
      "source": [
        "hierarchical_clustering(data,\"single\", 3)"
      ],
      "metadata": {
        "colab": {
          "base_uri": "https://localhost:8080/",
          "height": 326
        },
        "id": "1RDmYumf3pJH",
        "outputId": "f36fe738-b80a-48a2-d11f-6f64d38f5176"
      },
      "execution_count": 9,
      "outputs": [
        {
          "output_type": "stream",
          "name": "stdout",
          "text": [
            "[0, 1, 1, 3, 1, 1]\n"
          ]
        },
        {
          "output_type": "display_data",
          "data": {
            "image/png": "[encoded data removed]",
            "text/plain": [
              "<Figure size 432x288 with 1 Axes>"
            ]
          },
          "metadata": {
            "needs_background": "light"
          }
        }
      ]
    },
    {
      "cell_type": "code",
      "source": [
        "hierarchical_clustering(data,\"single\", 2)"
      ],
      "metadata": {
        "colab": {
          "base_uri": "https://localhost:8080/",
          "height": 326
        },
        "id": "k_DzvNxX3pMO",
        "outputId": "7566470b-2b46-4e12-ea2e-acce52fbaa09"
      },
      "execution_count": 10,
      "outputs": [
        {
          "output_type": "stream",
          "name": "stdout",
          "text": [
            "[0, 1, 1, 1, 1, 1]\n"
          ]
        },
        {
          "output_type": "display_data",
          "data": {
            "image/png": "[encoded data removed]",
            "text/plain": [
              "<Figure size 432x288 with 1 Axes>"
            ]
          },
          "metadata": {
            "needs_background": "light"
          }
        }
      ]
    },
    {
      "cell_type": "code",
      "source": [
        "#Finally all data point in one cluster\n",
        "hierarchical_clustering(data,\"single\", 1)"
      ],
      "metadata": {
        "colab": {
          "base_uri": "https://localhost:8080/",
          "height": 326
        },
        "id": "O6F638L93pPD",
        "outputId": "5cf3568a-2192-4038-f895-28f5e88d8ce7"
      },
      "execution_count": 11,
      "outputs": [
        {
          "output_type": "stream",
          "name": "stdout",
          "text": [
            "[0, 0, 0, 0, 0, 0]\n"
          ]
        },
        {
          "output_type": "display_data",
          "data": {
            "image/png": "[encoded data removed]",
            "text/plain": [
              "<Figure size 432x288 with 1 Axes>"
            ]
          },
          "metadata": {
            "needs_background": "light"
          }
        }
      ]
    },
    {
      "cell_type": "code",
      "source": [
        ""
      ],
      "metadata": {
        "id": "nH-CCcUU3pSC"
      },
      "execution_count": null,
      "outputs": []
    }
  ]
}