{
  "nbformat": 4,
  "nbformat_minor": 0,
  "metadata": {
    "colab": {
      "name": "Apriori algorithm.ipynb",
      "provenance": [],
      "authorship_tag": "ABX9TyPkGC28tfOCNB9KGt9YHcO7",
      "include_colab_link": true
    },
    "kernelspec": {
      "name": "python3",
      "display_name": "Python 3"
    },
    "language_info": {
      "name": "python"
    }
  },
  "cells": [
    {
      "cell_type": "markdown",
      "metadata": {
        "id": "view-in-github",
        "colab_type": "text"
      },
      "source": [
        "<a href=\"https://colab.research.google.com/github/Rushikesh042/ML-DL-Algos/blob/main/Apriori_algorithm.ipynb\" target=\"_parent\"><img src=\"https://colab.research.google.com/assets/colab-badge.svg\" alt=\"Open In Colab\"/></a>"
      ]
    },
    {
      "cell_type": "code",
      "source": [
        "pip install efficient-apriori"
      ],
      "metadata": {
        "colab": {
          "base_uri": "https://localhost:8080/"
        },
        "id": "U0vrG1rQxKxi",
        "outputId": "2dfd33c4-39a2-445c-8d5a-23c9ac0a82b6"
      },
      "execution_count": null,
      "outputs": [
        {
          "output_type": "stream",
          "name": "stdout",
          "text": [
            "Collecting efficient-apriori\n",
            "  Downloading efficient_apriori-2.0.1-py3-none-any.whl (14 kB)\n",
            "Installing collected packages: efficient-apriori\n",
            "Successfully installed efficient-apriori-2.0.1\n"
          ]
        }
      ]
    },
    {
      "cell_type": "code",
      "source": [
        "# store the item sets as tuples of strings in a list\n",
        "transactions = [\n",
        "    (\"beer\", \"wine\", \"cheese\"),\n",
        "    (\"beer\", \"potato chips\"),\n",
        "    (\"eggs\", \"flour\", \"butter\", \"cheese\"),\n",
        "    (\"eggs\", \"flour\", \"butter\", \"beer\", \"potato chips\"),\n",
        "    (\"wine\", \"cheese\"),\n",
        "    (\"potato chips\"),\n",
        "    (\"eggs\", \"flour\", \"butter\", \"wine\", \"cheese\"),\n",
        "    (\"eggs\", \"flour\", \"butter\", \"beer\", \"potato chips\"),\n",
        "    (\"wine\", \"beer\"),\n",
        "    (\"beer\", \"potato chips\"),\n",
        "    (\"butter\", \"eggs\"),\n",
        "    (\"beer\", \"potato chips\"),\n",
        "    (\"flour\", \"eggs\"),\n",
        "    (\"beer\", \"potato chips\"),\n",
        "    (\"eggs\", \"flour\", \"butter\", \"wine\", \"cheese\"),\n",
        "    (\"beer\", \"wine\", \"potato chips\", \"cheese\"),\n",
        "    (\"wine\", \"cheese\"),\n",
        "    (\"beer\", \"potato chips\"),\n",
        "    (\"wine\", \"cheese\"),\n",
        "    (\"beer\", \"potato chips\"),\n",
        "]"
      ],
      "metadata": {
        "id": "CP85h7_swRuP"
      },
      "execution_count": null,
      "outputs": []
    },
    {
      "cell_type": "code",
      "source": [
        "from efficient_apriori import apriori\n",
        "\n",
        "# our min support is 7, but it has to be expressed as a percentage for efficient-apriori\n",
        "min_support = 7/len(transactions) \n",
        "\n",
        "# min confidence allows you to delete rules with low confidence.\n",
        "# For now set min_confidence = 0 to obtain all the rules\n",
        "min_confidence = 0\n",
        "itemsets, rules = apriori(transactions, min_support=min_support, min_confidence=min_confidence)"
      ],
      "metadata": {
        "id": "NMA5fIs-wRxP"
      },
      "execution_count": null,
      "outputs": []
    },
    {
      "cell_type": "code",
      "source": [
        "print(itemsets)"
      ],
      "metadata": {
        "colab": {
          "base_uri": "https://localhost:8080/"
        },
        "id": "pYW0qeBlxKwV",
        "outputId": "271b8537-12c2-4d78-a033-d38cf1a834d8"
      },
      "execution_count": null,
      "outputs": [
        {
          "output_type": "stream",
          "name": "stdout",
          "text": [
            "{1: {('beer',): 11, ('wine',): 8, ('cheese',): 8, ('potato chips',): 9, ('eggs',): 7}, 2: {('beer', 'potato chips'): 9, ('cheese', 'wine'): 7}}\n"
          ]
        }
      ]
    },
    {
      "cell_type": "code",
      "source": [
        "#Inspecting the rules and their metrics\n",
        "for rule in rules:\n",
        "  print(rule)"
      ],
      "metadata": {
        "colab": {
          "base_uri": "https://localhost:8080/"
        },
        "id": "peh4VUxCwR0N",
        "outputId": "3802369c-598f-4bb7-9ba2-491847751b3c"
      },
      "execution_count": null,
      "outputs": [
        {
          "output_type": "stream",
          "name": "stdout",
          "text": [
            "{potato chips} -> {beer} (conf: 1.000, supp: 0.450, lift: 1.818, conv: 450000000.000)\n",
            "{beer} -> {potato chips} (conf: 0.818, supp: 0.450, lift: 1.818, conv: 3.025)\n",
            "{wine} -> {cheese} (conf: 0.875, supp: 0.350, lift: 2.188, conv: 4.800)\n",
            "{cheese} -> {wine} (conf: 0.875, supp: 0.350, lift: 2.188, conv: 4.800)\n"
          ]
        }
      ]
    },
    {
      "cell_type": "code",
      "source": [
        ""
      ],
      "metadata": {
        "id": "YeR4B09jyF80"
      },
      "execution_count": null,
      "outputs": []
    }
  ]
}